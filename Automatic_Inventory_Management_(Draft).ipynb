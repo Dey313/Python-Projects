{
  "nbformat": 4,
  "nbformat_minor": 0,
  "metadata": {
    "colab": {
      "provenance": [],
      "authorship_tag": "ABX9TyNr+aSHjQ0fBHqkJ2SUHS2i",
      "include_colab_link": true
    },
    "kernelspec": {
      "name": "python3",
      "display_name": "Python 3"
    },
    "language_info": {
      "name": "python"
    }
  },
  "cells": [
    {
      "cell_type": "markdown",
      "metadata": {
        "id": "view-in-github",
        "colab_type": "text"
      },
      "source": [
        "<a href=\"https://colab.research.google.com/github/Dey313/Python-Projects/blob/main/Automatic_Inventory_Management_(Draft).ipynb\" target=\"_parent\"><img src=\"https://colab.research.google.com/assets/colab-badge.svg\" alt=\"Open In Colab\"/></a>"
      ]
    },
    {
      "cell_type": "code",
      "execution_count": 2,
      "metadata": {
        "colab": {
          "base_uri": "https://localhost:8080/"
        },
        "id": "PcgTCYteFC84",
        "outputId": "df371496-26a6-4e1f-9bfe-d1c5367eac09"
      },
      "outputs": [
        {
          "output_type": "stream",
          "name": "stdout",
          "text": [
            "Inventory for Godfather:\n",
            "Tomatoes: 15\n",
            "Potatoes: 5\n",
            "Onions: 8\n",
            "fatak Bazaar is replenishing Potatoes for Godfather\n",
            "Inventory for Godfather:\n",
            "Tomatoes: 15\n",
            "Potatoes: 15\n",
            "Onions: 8\n"
          ]
        }
      ],
      "source": [
        "class Restaurant:\n",
        "    def __init__(self, name):\n",
        "        self.name = name\n",
        "        self.inventory = {}\n",
        "        self.threshold = 5\n",
        "\n",
        "    def add_item(self, item, quantity):\n",
        "        if item in self.inventory:\n",
        "            self.inventory[item] += quantity\n",
        "        else:\n",
        "            self.inventory[item] = quantity\n",
        "\n",
        "    def check_inventory(self):\n",
        "        for item, quantity in self.inventory.items():\n",
        "            if quantity < self.threshold:\n",
        "                print(f\"Low inventory for {item}. Need to reorder!\")\n",
        "\n",
        "    def display_inventory(self):\n",
        "        print(f\"Inventory for {self.name}:\")\n",
        "        for item, quantity in self.inventory.items():\n",
        "            print(f\"{item}: {quantity}\")\n",
        "\n",
        "class Vendor:\n",
        "    def __init__(self, name):\n",
        "        self.name = name\n",
        "\n",
        "    def replenish_inventory(self, restaurant, item, quantity):\n",
        "        print(f\"{self.name} is replenishing {item} for {restaurant.name}\")\n",
        "        restaurant.add_item(item, quantity)\n",
        "\n",
        "\n",
        "# Sample Usage:\n",
        "restaurant = Restaurant(\"Godfather\")\n",
        "vendor = Vendor(\"fatak Bazaar\")\n",
        "\n",
        "# Adding items to the restaurant's inventory\n",
        "restaurant.add_item(\"Tomatoes\", 15)\n",
        "restaurant.add_item(\"Potatoes\", 5)\n",
        "restaurant.add_item(\"Onions\", 8)\n",
        "\n",
        "# Display initial inventory\n",
        "restaurant.display_inventory()\n",
        "\n",
        "# Simulate checking inventory and notifying the vendor\n",
        "restaurant.check_inventory()\n",
        "\n",
        "# Vendor replenishing inventory\n",
        "vendor.replenish_inventory(restaurant, \"Potatoes\", 10)\n",
        "\n",
        "# Display updated inventory after replenishment\n",
        "restaurant.display_inventory()\n"
      ]
    }
  ]
}